{
 "cells": [
  {
   "cell_type": "markdown",
   "metadata": {},
   "source": [
    "I would break it down into two main tasks:\n",
    "1. predicting the numerical outcome \n",
    "2. predicting the time to reach that outcome"
   ]
  },
  {
   "cell_type": "markdown",
   "metadata": {},
   "source": [
    "Let's extend the code by adding all the regression models you want to try and compute the evaluation metrics (MAE, MSE, RMSE) for each model. We'll use the following regression models:"
   ]
  },
  {
   "cell_type": "markdown",
   "metadata": {},
   "source": [
    "the regression models are:\n",
    "1.Linear Regression\n",
    "2.Decision Tree Regressor\n",
    "3.Random Forest Regressor\n",
    "4.Gradient Boosting Regressor\n",
    "5.Support Vector Regressor (SVR)\n",
    "6.K-Nearest Neighbors Regressor (KNN)"
   ]
  },
  {
   "cell_type": "code",
   "execution_count": 33,
   "metadata": {},
   "outputs": [],
   "source": [
    "import pandas as pd  # Data handling\n",
    "import numpy as np  # Numerical operations\n",
    "from sklearn.model_selection import train_test_split  # Splitting dataset\n",
    "from sklearn.metrics import r2_score,mean_absolute_error, mean_squared_error  # Error metrics"
   ]
  },
  {
   "cell_type": "code",
   "execution_count": 34,
   "metadata": {},
   "outputs": [],
   "source": [
    "# Regressor models\n",
    "\n",
    "from sklearn.linear_model import LinearRegression  \n",
    "# Linear Regression: Basic linear model, fits a linear equation to data.\n",
    "\n",
    "from sklearn.tree import DecisionTreeRegressor  \n",
    "# Decision Tree Regressor: Non-linear model that splits the data into regions based on feature values.\n",
    "\n",
    "from sklearn.ensemble import RandomForestRegressor, GradientBoostingRegressor  \n",
    "# Random Forest Regressor: Ensemble of decision trees, reduces overfitting by averaging multiple tree predictions.\n",
    "# Gradient Boosting Regressor: Sequentially builds models, focusing on errors from the previous model to improve performance.\n",
    "\n",
    "from sklearn.svm import SVR  \n",
    "# Support Vector Regressor: Non-linear model that uses a hyperplane to predict continuous values.\n",
    "\n",
    "from sklearn.neighbors import KNeighborsRegressor  \n",
    "# K-Nearest Neighbors Regressor: Predicts the value of a point based on the average of its k-nearest neighbors.\n"
   ]
  },
  {
   "cell_type": "code",
   "execution_count": 35,
   "metadata": {},
   "outputs": [],
   "source": [
    "np.random.seed(42)"
   ]
  },
  {
   "cell_type": "markdown",
   "metadata": {},
   "source": [
    "np.random.seed(42): Setting the random seed ensures that the results are consistent every time the code is run. The choice of 42 is arbitrary , and it helps to ensure that randomized processes like train-test splitting or model initialization generate the same results across runs, which is essential for debugging and reproducibility."
   ]
  },
  {
   "cell_type": "code",
   "execution_count": 36,
   "metadata": {},
   "outputs": [],
   "source": [
    "# Assuming the data is already loaded or generated\n",
    "# You can replace this with actual data\n",
    "n_samples = 100 # Generate a dataset with 100 rows \n",
    "n_features = 5  # Generate a dataset with  5 features"
   ]
  },
  {
   "cell_type": "code",
   "execution_count": 37,
   "metadata": {},
   "outputs": [],
   "source": [
    "X = np.random.rand(n_samples, n_features)   # Generate random features and target data\n",
    "y_outcome = np.random.rand(n_samples) * 100  # Outcome target\n",
    "y_time = np.random.randint(1, 60, size=n_samples)  # Time target"
   ]
  },
  {
   "cell_type": "code",
   "execution_count": 38,
   "metadata": {},
   "outputs": [
    {
     "name": "stdout",
     "output_type": "stream",
     "text": [
      "   Feature_1  Feature_2  Feature_3  Feature_4  Feature_5    Outcome  Time\n",
      "0   0.374540   0.950714   0.731994   0.598658   0.156019  69.816171     5\n",
      "1   0.155995   0.058084   0.866176   0.601115   0.708073  53.609637    18\n",
      "2   0.020584   0.969910   0.832443   0.212339   0.181825  30.952762    28\n",
      "3   0.183405   0.304242   0.524756   0.431945   0.291229  81.379502    42\n",
      "4   0.611853   0.139494   0.292145   0.366362   0.456070  68.473117    22\n"
     ]
    }
   ],
   "source": [
    "\n",
    "\n",
    "# Create DataFrame from generated data\n",
    "df = pd.DataFrame(X, columns=[f'Feature_{i+1}' for i in range(X.shape[1])])#X.shape[0]: 100(number of rows) in pandas\n",
    "                                                                           #X.shape[1]: 5 (number of columns)in pandas\n",
    "df['Outcome'] = y_outcome\n",
    "df['Time'] = y_time\n",
    "\n",
    "# Display the first few rows of the DataFrame\n",
    "print(df.head())\n"
   ]
  },
  {
   "cell_type": "code",
   "execution_count": 39,
   "metadata": {},
   "outputs": [
    {
     "data": {
      "text/html": [
       "<div>\n",
       "<style scoped>\n",
       "    .dataframe tbody tr th:only-of-type {\n",
       "        vertical-align: middle;\n",
       "    }\n",
       "\n",
       "    .dataframe tbody tr th {\n",
       "        vertical-align: top;\n",
       "    }\n",
       "\n",
       "    .dataframe thead th {\n",
       "        text-align: right;\n",
       "    }\n",
       "</style>\n",
       "<table border=\"1\" class=\"dataframe\">\n",
       "  <thead>\n",
       "    <tr style=\"text-align: right;\">\n",
       "      <th></th>\n",
       "      <th>Feature_1</th>\n",
       "      <th>Feature_2</th>\n",
       "      <th>Feature_3</th>\n",
       "      <th>Feature_4</th>\n",
       "      <th>Feature_5</th>\n",
       "      <th>Outcome</th>\n",
       "      <th>Time</th>\n",
       "    </tr>\n",
       "  </thead>\n",
       "  <tbody>\n",
       "    <tr>\n",
       "      <th>95</th>\n",
       "      <td>0.992965</td>\n",
       "      <td>0.073797</td>\n",
       "      <td>0.553854</td>\n",
       "      <td>0.969303</td>\n",
       "      <td>0.523098</td>\n",
       "      <td>47.396164</td>\n",
       "      <td>22</td>\n",
       "    </tr>\n",
       "    <tr>\n",
       "      <th>96</th>\n",
       "      <td>0.629399</td>\n",
       "      <td>0.695749</td>\n",
       "      <td>0.454541</td>\n",
       "      <td>0.627558</td>\n",
       "      <td>0.584314</td>\n",
       "      <td>66.755774</td>\n",
       "      <td>34</td>\n",
       "    </tr>\n",
       "    <tr>\n",
       "      <th>97</th>\n",
       "      <td>0.901158</td>\n",
       "      <td>0.045446</td>\n",
       "      <td>0.280963</td>\n",
       "      <td>0.950411</td>\n",
       "      <td>0.890264</td>\n",
       "      <td>17.231987</td>\n",
       "      <td>47</td>\n",
       "    </tr>\n",
       "    <tr>\n",
       "      <th>98</th>\n",
       "      <td>0.455657</td>\n",
       "      <td>0.620133</td>\n",
       "      <td>0.277381</td>\n",
       "      <td>0.188121</td>\n",
       "      <td>0.463698</td>\n",
       "      <td>19.228902</td>\n",
       "      <td>8</td>\n",
       "    </tr>\n",
       "    <tr>\n",
       "      <th>99</th>\n",
       "      <td>0.353352</td>\n",
       "      <td>0.583656</td>\n",
       "      <td>0.077735</td>\n",
       "      <td>0.974395</td>\n",
       "      <td>0.986211</td>\n",
       "      <td>4.086862</td>\n",
       "      <td>40</td>\n",
       "    </tr>\n",
       "  </tbody>\n",
       "</table>\n",
       "</div>"
      ],
      "text/plain": [
       "    Feature_1  Feature_2  Feature_3  Feature_4  Feature_5    Outcome  Time\n",
       "95   0.992965   0.073797   0.553854   0.969303   0.523098  47.396164    22\n",
       "96   0.629399   0.695749   0.454541   0.627558   0.584314  66.755774    34\n",
       "97   0.901158   0.045446   0.280963   0.950411   0.890264  17.231987    47\n",
       "98   0.455657   0.620133   0.277381   0.188121   0.463698  19.228902     8\n",
       "99   0.353352   0.583656   0.077735   0.974395   0.986211   4.086862    40"
      ]
     },
     "execution_count": 39,
     "metadata": {},
     "output_type": "execute_result"
    }
   ],
   "source": [
    "df.tail()"
   ]
  },
  {
   "cell_type": "code",
   "execution_count": 40,
   "metadata": {},
   "outputs": [
    {
     "data": {
      "text/html": [
       "<div>\n",
       "<style scoped>\n",
       "    .dataframe tbody tr th:only-of-type {\n",
       "        vertical-align: middle;\n",
       "    }\n",
       "\n",
       "    .dataframe tbody tr th {\n",
       "        vertical-align: top;\n",
       "    }\n",
       "\n",
       "    .dataframe thead th {\n",
       "        text-align: right;\n",
       "    }\n",
       "</style>\n",
       "<table border=\"1\" class=\"dataframe\">\n",
       "  <thead>\n",
       "    <tr style=\"text-align: right;\">\n",
       "      <th></th>\n",
       "      <th>count</th>\n",
       "      <th>mean</th>\n",
       "      <th>std</th>\n",
       "      <th>min</th>\n",
       "      <th>25%</th>\n",
       "      <th>50%</th>\n",
       "      <th>75%</th>\n",
       "      <th>max</th>\n",
       "    </tr>\n",
       "  </thead>\n",
       "  <tbody>\n",
       "    <tr>\n",
       "      <th>Feature_1</th>\n",
       "      <td>100.0</td>\n",
       "      <td>0.504711</td>\n",
       "      <td>0.297463</td>\n",
       "      <td>0.009197</td>\n",
       "      <td>0.279637</td>\n",
       "      <td>0.502326</td>\n",
       "      <td>0.773470</td>\n",
       "      <td>0.992965</td>\n",
       "    </tr>\n",
       "    <tr>\n",
       "      <th>Feature_2</th>\n",
       "      <td>100.0</td>\n",
       "      <td>0.525232</td>\n",
       "      <td>0.299905</td>\n",
       "      <td>0.011354</td>\n",
       "      <td>0.281719</td>\n",
       "      <td>0.556379</td>\n",
       "      <td>0.772236</td>\n",
       "      <td>0.990054</td>\n",
       "    </tr>\n",
       "    <tr>\n",
       "      <th>Feature_3</th>\n",
       "      <td>100.0</td>\n",
       "      <td>0.487698</td>\n",
       "      <td>0.294821</td>\n",
       "      <td>0.005522</td>\n",
       "      <td>0.193630</td>\n",
       "      <td>0.513164</td>\n",
       "      <td>0.746157</td>\n",
       "      <td>0.966655</td>\n",
       "    </tr>\n",
       "    <tr>\n",
       "      <th>Feature_4</th>\n",
       "      <td>100.0</td>\n",
       "      <td>0.521254</td>\n",
       "      <td>0.293220</td>\n",
       "      <td>0.005062</td>\n",
       "      <td>0.297294</td>\n",
       "      <td>0.532713</td>\n",
       "      <td>0.798420</td>\n",
       "      <td>0.974395</td>\n",
       "    </tr>\n",
       "    <tr>\n",
       "      <th>Feature_5</th>\n",
       "      <td>100.0</td>\n",
       "      <td>0.453913</td>\n",
       "      <td>0.308130</td>\n",
       "      <td>0.015457</td>\n",
       "      <td>0.167322</td>\n",
       "      <td>0.419329</td>\n",
       "      <td>0.726623</td>\n",
       "      <td>0.986887</td>\n",
       "    </tr>\n",
       "    <tr>\n",
       "      <th>Outcome</th>\n",
       "      <td>100.0</td>\n",
       "      <td>52.529974</td>\n",
       "      <td>29.712209</td>\n",
       "      <td>1.454467</td>\n",
       "      <td>25.552032</td>\n",
       "      <td>52.820203</td>\n",
       "      <td>81.114025</td>\n",
       "      <td>99.971767</td>\n",
       "    </tr>\n",
       "    <tr>\n",
       "      <th>Time</th>\n",
       "      <td>100.0</td>\n",
       "      <td>30.330000</td>\n",
       "      <td>16.536495</td>\n",
       "      <td>1.000000</td>\n",
       "      <td>17.000000</td>\n",
       "      <td>27.500000</td>\n",
       "      <td>45.250000</td>\n",
       "      <td>59.000000</td>\n",
       "    </tr>\n",
       "  </tbody>\n",
       "</table>\n",
       "</div>"
      ],
      "text/plain": [
       "           count       mean        std       min        25%        50%  \\\n",
       "Feature_1  100.0   0.504711   0.297463  0.009197   0.279637   0.502326   \n",
       "Feature_2  100.0   0.525232   0.299905  0.011354   0.281719   0.556379   \n",
       "Feature_3  100.0   0.487698   0.294821  0.005522   0.193630   0.513164   \n",
       "Feature_4  100.0   0.521254   0.293220  0.005062   0.297294   0.532713   \n",
       "Feature_5  100.0   0.453913   0.308130  0.015457   0.167322   0.419329   \n",
       "Outcome    100.0  52.529974  29.712209  1.454467  25.552032  52.820203   \n",
       "Time       100.0  30.330000  16.536495  1.000000  17.000000  27.500000   \n",
       "\n",
       "                 75%        max  \n",
       "Feature_1   0.773470   0.992965  \n",
       "Feature_2   0.772236   0.990054  \n",
       "Feature_3   0.746157   0.966655  \n",
       "Feature_4   0.798420   0.974395  \n",
       "Feature_5   0.726623   0.986887  \n",
       "Outcome    81.114025  99.971767  \n",
       "Time       45.250000  59.000000  "
      ]
     },
     "execution_count": 40,
     "metadata": {},
     "output_type": "execute_result"
    }
   ],
   "source": [
    "df.describe().T\n"
   ]
  },
  {
   "cell_type": "code",
   "execution_count": 41,
   "metadata": {},
   "outputs": [
    {
     "data": {
      "text/plain": [
       "(100, 7)"
      ]
     },
     "execution_count": 41,
     "metadata": {},
     "output_type": "execute_result"
    }
   ],
   "source": [
    "df.shape\n"
   ]
  },
  {
   "cell_type": "code",
   "execution_count": 42,
   "metadata": {},
   "outputs": [
    {
     "data": {
      "text/plain": [
       "Feature_1    0\n",
       "Feature_2    0\n",
       "Feature_3    0\n",
       "Feature_4    0\n",
       "Feature_5    0\n",
       "Outcome      0\n",
       "Time         0\n",
       "dtype: int64"
      ]
     },
     "execution_count": 42,
     "metadata": {},
     "output_type": "execute_result"
    }
   ],
   "source": [
    "df.isnull().sum()"
   ]
  },
  {
   "cell_type": "code",
   "execution_count": 43,
   "metadata": {},
   "outputs": [],
   "source": [
    "# Split data into training and testing sets\n",
    "X_train, X_test, y_outcome_train, y_outcome_test, y_time_train, y_time_test = train_test_split(\n",
    "    X, y_outcome, y_time, test_size=0.2, random_state=42)"
   ]
  },
  {
   "cell_type": "code",
   "execution_count": 44,
   "metadata": {},
   "outputs": [],
   "source": [
    "# Initialize all regression models\n",
    "models = {\n",
    "    \"Linear Regression\": LinearRegression(),\n",
    "    \"Decision Tree\": DecisionTreeRegressor(random_state=42),\n",
    "    \"Random Forest\": RandomForestRegressor(random_state=42),\n",
    "    \"Gradient Boosting\": GradientBoostingRegressor(random_state=42),\n",
    "    \"Support Vector Regressor\": SVR(),\n",
    "    \"K-Nearest Neighbors\": KNeighborsRegressor()\n",
    "}"
   ]
  },
  {
   "cell_type": "markdown",
   "metadata": {},
   "source": [
    "No randomness is requried:\n",
    "\n",
    "linear reg: Linear Regression does not involve randomness in its training process. It directly computes the best-fit line using closed-form solutions or numerical optimization.\n",
    "\n",
    "Support Vector Reg:SVR solves a mathematical problem to find the best fit. Sometimes, it involves some randomness in the process, but usually, it works the same way each time.\n",
    "\n",
    "K-Nearest Neighbors Reg:KNN is a non-parametric method that makes predictions based on the distance to neighbors.\n",
    "\n",
    "randomness is requried:\n",
    "\n",
    "Decision Tree Regressor:Decision Trees involve randomness in how they split nodes and select features.\n",
    "\n",
    "Random Forest Regressor:Random Forests build multiple decision trees with random subsets of features and data.\n",
    "\n",
    "Gradient Boosting Regressor: Gradient Boosting builds models sequentially, where each model corrects the errors of the previous one. Randomness is involved in how each model is trained.\n",
    "\n",
    "\n",
    "\n"
   ]
  },
  {
   "cell_type": "code",
   "execution_count": 45,
   "metadata": {},
   "outputs": [],
   "source": [
    "# Dictionaries to store evaluation metrics\n",
    "outcome_metrics = {} \n",
    "time_metrics = {}"
   ]
  },
  {
   "cell_type": "markdown",
   "metadata": {},
   "source": [
    "why we are using dictionary to store data?\n",
    "because,Using dictionaries to store evaluation metrics helps keep your results organized, easily accessible, and scalable, making it straightforward to manage and report metrics for different models.\n",
    "outcome_metrics['Linear Regression'] = {'MAE': 5.4, 'MSE': 30.2, 'RMSE': 5.5}\n",
    "print(outcome_metrics['Linear Regression']['MAE'])  # Output: 5.4\n",
    "\n"
   ]
  },
  {
   "cell_type": "code",
   "execution_count": 46,
   "metadata": {},
   "outputs": [],
   "source": [
    "# Loop through each model and evaluate\n",
    "for model_name, model in models.items():\n",
    "    # Train and predict for outcome\n",
    "    model.fit(X_train, y_outcome_train)\n",
    "    y_outcome_pred = model.predict(X_test)\n",
    "    # Train and predict for time\n",
    "    model.fit(X_train, y_time_train)\n",
    "    y_time_pred = model.predict(X_test)\n",
    "    # Calculate the outcome prediction\n",
    "    mae_outcome = mean_absolute_error(y_outcome_test, y_outcome_pred)\n",
    "    mse_outcome = mean_squared_error(y_outcome_test, y_outcome_pred)\n",
    "    rmse_outcome = np.sqrt(mse_outcome) \n",
    "    r2_outcome = r2_score(y_outcome_test, y_outcome_pred)\n",
    "    # Evaluate Time Metrics\n",
    "    mae_time = mean_absolute_error(y_time_test, y_time_pred)\n",
    "    mse_time = mean_squared_error(y_time_test, y_time_pred)\n",
    "    rmse_time = np.sqrt(mse_time)\n",
    "    r2_time = r2_score(y_time_test, y_time_pred)\n",
    "    # Store results in dictionaries\n",
    "    outcome_metrics[model_name] = {\"MAE\": mae_outcome, \"MSE\": mse_outcome, \"RMSE\": rmse_outcome,\"r2_score\":r2_outcome}\n",
    "    time_metrics[model_name] = {\"MAE\": mae_time, \"MSE\": mse_time, \"RMSE\": rmse_time,\"r2_score\":r2_time}\n",
    "    \n",
    "    \n"
   ]
  },
  {
   "cell_type": "code",
   "execution_count": 47,
   "metadata": {},
   "outputs": [],
   "source": [
    "#Shows the average error size, simple and robust to outliers.\n",
    "# Highlights larger errors more, can be skewed by outliers.\n",
    "# Gives error magnitude in the same units as the target, interpretable but also sensitive to large errors.\n",
    "# R-squared measures the proportion of the variance in the dependent variable that is predictable from \n",
    "# the independent variables. \n",
    "# It ranges from 0 to 1, with 1 indicating a perfect fit.\n",
    "# Higher values indicate better performance.\n",
    "\n",
    "\n"
   ]
  },
  {
   "cell_type": "code",
   "execution_count": 48,
   "metadata": {},
   "outputs": [
    {
     "name": "stdout",
     "output_type": "stream",
     "text": [
      "Outcome Prediction Metrics:\n",
      "\n",
      "Linear Regression:\n",
      "MAE: 31.65\n",
      "MSE: 1239.28\n",
      "RMSE: 35.20\n",
      "r2_score: -0.62\n",
      "\n",
      "Decision Tree:\n",
      "MAE: 33.80\n",
      "MSE: 1546.33\n",
      "RMSE: 39.32\n",
      "r2_score: -1.02\n",
      "\n",
      "Random Forest:\n",
      "MAE: 34.42\n",
      "MSE: 1510.97\n",
      "RMSE: 38.87\n",
      "r2_score: -0.98\n",
      "\n",
      "Gradient Boosting:\n",
      "MAE: 34.56\n",
      "MSE: 1513.46\n",
      "RMSE: 38.90\n",
      "r2_score: -0.98\n",
      "\n",
      "Support Vector Regressor:\n",
      "MAE: 25.64\n",
      "MSE: 904.22\n",
      "RMSE: 30.07\n",
      "r2_score: -0.18\n",
      "\n",
      "K-Nearest Neighbors:\n",
      "MAE: 28.53\n",
      "MSE: 1095.49\n",
      "RMSE: 33.10\n",
      "r2_score: -0.43\n",
      "\n",
      "Time Prediction Metrics:\n",
      "\n",
      "Linear Regression:\n",
      "MAE: 15.25\n",
      "MSE: 307.23\n",
      "RMSE: 17.53\n",
      "r2_score: -0.10\n",
      "\n",
      "Decision Tree:\n",
      "MAE: 18.95\n",
      "MSE: 512.25\n",
      "RMSE: 22.63\n",
      "r2_score: -0.84\n",
      "\n",
      "Random Forest:\n",
      "MAE: 14.56\n",
      "MSE: 282.65\n",
      "RMSE: 16.81\n",
      "r2_score: -0.01\n",
      "\n",
      "Gradient Boosting:\n",
      "MAE: 15.14\n",
      "MSE: 316.29\n",
      "RMSE: 17.78\n",
      "r2_score: -0.13\n",
      "\n",
      "Support Vector Regressor:\n",
      "MAE: 14.78\n",
      "MSE: 280.03\n",
      "RMSE: 16.73\n",
      "r2_score: -0.00\n",
      "\n",
      "K-Nearest Neighbors:\n",
      "MAE: 15.84\n",
      "MSE: 311.53\n",
      "RMSE: 17.65\n",
      "r2_score: -0.12\n"
     ]
    }
   ],
   "source": [
    "\n",
    "# Print results for Outcome\n",
    "print(\"Outcome Prediction Metrics:\")\n",
    "for model_name, metrics in outcome_metrics.items():\n",
    "    print(f\"\\n{model_name}:\")\n",
    "    print(f\"MAE: {metrics['MAE']:.2f}\")\n",
    "    print(f\"MSE: {metrics['MSE']:.2f}\")\n",
    "    print(f\"RMSE: {metrics['RMSE']:.2f}\")\n",
    "    print(f\"r2_score: {metrics['r2_score']:.2f}\")\n",
    "\n",
    "print(\"\\nTime Prediction Metrics:\")\n",
    "for model_name, metrics in time_metrics.items():\n",
    "    print(f\"\\n{model_name}:\")\n",
    "    print(f\"MAE: {metrics['MAE']:.2f}\")\n",
    "    print(f\"MSE: {metrics['MSE']:.2f}\")\n",
    "    print(f\"RMSE: {metrics['RMSE']:.2f}\")\n",
    "    print(f\"r2_score: {metrics['r2_score']:.2f}\")"
   ]
  },
  {
   "cell_type": "markdown",
   "metadata": {},
   "source": [
    "Overall Observations\n",
    "*SVR performs the best for both outcome and time prediction based on MAE, RMSE, and R-squared values.\n",
    "*KNN is also a good performer but slightly behind SVR.\n",
    "Tree-based models (Decision Tree, Random Forest, Gradient Boosting) have higher errors and poorer fit for both outcome and time predictions.\n",
    "==>Linear Regression performs reasonably well but is outperformed by SVR and KNN.\n",
    "Recommendations\n",
    "*For Outcome Prediction: SVR is the preferred model based on current metrics.\n",
    "*For Time Prediction: SVR is again the best model, with Random Forest as a close second."
   ]
  }
 ],
 "metadata": {
  "kernelspec": {
   "display_name": "Python 3",
   "language": "python",
   "name": "python3"
  },
  "language_info": {
   "codemirror_mode": {
    "name": "ipython",
    "version": 3
   },
   "file_extension": ".py",
   "mimetype": "text/x-python",
   "name": "python",
   "nbconvert_exporter": "python",
   "pygments_lexer": "ipython3",
   "version": "3.11.5"
  }
 },
 "nbformat": 4,
 "nbformat_minor": 2
}
